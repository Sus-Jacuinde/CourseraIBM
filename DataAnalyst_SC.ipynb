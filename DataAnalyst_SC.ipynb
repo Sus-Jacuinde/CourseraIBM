{
 "cells": [
  {
   "cell_type": "markdown",
   "id": "69adbe78-0199-4ac6-8076-d3fbdef1d9d8",
   "metadata": {},
   "source": [
    "### DataAnalyst_SC"
   ]
  },
  {
   "cell_type": "markdown",
   "id": "2a054756-b172-4bec-9936-8475f1bd0d3f",
   "metadata": {},
   "source": [
    "## In this notebook, Data science Tools and Ecosystems are summarized"
   ]
  },
  {
   "cell_type": "markdown",
   "id": "9083ac02-6cf6-4d2e-a395-cc26a3db768c",
   "metadata": {},
   "source": [
    "Follow down are some of the most popular languages that are used in Data Science:\n",
    "\n",
    "1. Python\n",
    "2. R\n",
    "3. SQL\n",
    "4. Julia\n",
    "5. Scala"
   ]
  },
  {
   "cell_type": "markdown",
   "id": "95d71af8-ce90-4c9e-aa5a-45e83b5e334e",
   "metadata": {},
   "source": [
    "Some commonly used libraries in Data scientists include:\n",
    "\n",
    "1. Numpy\n",
    "2. Pandas\n",
    "3. Matplotlib\n",
    "4. Scikit-learn\n",
    "5. Tensorflow"
   ]
  },
  {
   "cell_type": "markdown",
   "id": "8dfeb731-fa74-4116-8e98-9c87de6d44ac",
   "metadata": {},
   "source": [
    "|    Data Science Tools     |  Development Environments  |\n",
    "|---------------------------|----------------------------|\n",
    "| Programming Languages     | Jupiter Notebook           |\n",
    "| Data Bases                | RStudio                    |\n",
    "| Development environments  | Apache Zeppelin            |"
   ]
  },
  {
   "cell_type": "markdown",
   "id": "1c828738-812e-42e2-9a33-35d581f5ecae",
   "metadata": {},
   "source": [
    "## Below are a few examples of evaluating expressions in Python."
   ]
  },
  {
   "cell_type": "code",
   "execution_count": 1,
   "id": "c83605d2-4dd4-4286-82fe-7058c08e9a83",
   "metadata": {},
   "outputs": [
    {
     "name": "stdout",
     "output_type": "stream",
     "text": [
      "[1] 81\n"
     ]
    }
   ],
   "source": [
    "#Here is a simple arthimetic expression to multiply, then add integers.\n",
    "a = 2\n",
    "b = 7\n",
    "c = 9\n",
    "result = (a + b) * c\n",
    "print(result)"
   ]
  },
  {
   "cell_type": "code",
   "execution_count": 2,
   "id": "565a311c-3692-40aa-afa4-2e5545ec8509",
   "metadata": {},
   "outputs": [
    {
     "name": "stdout",
     "output_type": "stream",
     "text": [
      "[1] 5\n"
     ]
    }
   ],
   "source": [
    "#This will convert 300 minutes to hours by dividing by 60\n",
    "minutes = 300\n",
    "hours = minutes/60\n",
    "print(hours)\n"
   ]
  },
  {
   "cell_type": "markdown",
   "id": "a9e208ce-6cd2-47c6-b2a5-e19b49fc3f91",
   "metadata": {},
   "source": [
    "**Objectives:**\n",
    "  *  Some of the popular languages data scientists use are\n",
    "  *  Some of the commonly used libraries\n",
    "  *  Evaluating expressions in Python"
   ]
  },
  {
   "cell_type": "markdown",
   "id": "2bd2bb7e-5044-4ff2-b759-8c071fe76876",
   "metadata": {},
   "source": [
    "#### Author: Susan Castro"
   ]
  },
  {
   "cell_type": "code",
   "execution_count": null,
   "id": "2165345d-fc10-480b-a52a-de2172d2febb",
   "metadata": {},
   "outputs": [],
   "source": []
  }
 ],
 "metadata": {
  "kernelspec": {
   "display_name": "R",
   "language": "R",
   "name": "ir"
  },
  "language_info": {
   "codemirror_mode": "r",
   "file_extension": ".r",
   "mimetype": "text/x-r-source",
   "name": "R",
   "pygments_lexer": "r",
   "version": "4.4.2"
  }
 },
 "nbformat": 4,
 "nbformat_minor": 5
}
